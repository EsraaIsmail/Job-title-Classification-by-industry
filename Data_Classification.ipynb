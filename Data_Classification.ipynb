{
 "cells": [
  {
   "cell_type": "code",
   "execution_count": 1,
   "id": "ee4a2dda",
   "metadata": {},
   "outputs": [],
   "source": [
    "#import modules \n",
    "import pandas as pd\n",
    "import matplotlib.pyplot as plt\n",
    "import numpy as np\n",
    "import seaborn as sb\n",
    "# Import stopwords with nltk.\n",
    "import nltk\n",
    "from nltk.corpus import stopwords\n",
    "import re\n",
    "from sklearn.model_selection import train_test_split\n",
    "from sklearn.utils.class_weight import compute_sample_weight\n",
    "from sklearn.feature_extraction.text import CountVectorizer, TfidfVectorizer\n",
    "from sklearn.feature_extraction.text import TfidfTransformer\n",
    "from collections import Counter\n",
    "from imblearn.combine import SMOTETomek \n",
    "\n",
    "from sklearn.pipeline import Pipeline\n",
    "from imblearn.pipeline import make_pipeline\n",
    "from sklearn.linear_model import LogisticRegression\n",
    "from sklearn.metrics import confusion_matrix, plot_confusion_matrix\n",
    "from sklearn.metrics import accuracy_score\n",
    "from sklearn.naive_bayes import MultinomialNB\n",
    "from sklearn.linear_model import SGDClassifier\n",
    "from sklearn.metrics import f1_score\n",
    "from sklearn import metrics\n",
    "\n",
    "import warnings\n",
    "warnings.filterwarnings(\"ignore\")"
   ]
  },
  {
   "cell_type": "code",
   "execution_count": 2,
   "id": "09cf28f4",
   "metadata": {},
   "outputs": [
    {
     "data": {
      "text/html": [
       "<div>\n",
       "<style scoped>\n",
       "    .dataframe tbody tr th:only-of-type {\n",
       "        vertical-align: middle;\n",
       "    }\n",
       "\n",
       "    .dataframe tbody tr th {\n",
       "        vertical-align: top;\n",
       "    }\n",
       "\n",
       "    .dataframe thead th {\n",
       "        text-align: right;\n",
       "    }\n",
       "</style>\n",
       "<table border=\"1\" class=\"dataframe\">\n",
       "  <thead>\n",
       "    <tr style=\"text-align: right;\">\n",
       "      <th></th>\n",
       "      <th>job title</th>\n",
       "      <th>industry</th>\n",
       "    </tr>\n",
       "  </thead>\n",
       "  <tbody>\n",
       "    <tr>\n",
       "      <th>0</th>\n",
       "      <td>technical support and helpdesk supervisor - co...</td>\n",
       "      <td>IT</td>\n",
       "    </tr>\n",
       "    <tr>\n",
       "      <th>1</th>\n",
       "      <td>senior technical support engineer</td>\n",
       "      <td>IT</td>\n",
       "    </tr>\n",
       "    <tr>\n",
       "      <th>2</th>\n",
       "      <td>head of it services</td>\n",
       "      <td>IT</td>\n",
       "    </tr>\n",
       "    <tr>\n",
       "      <th>3</th>\n",
       "      <td>js front end engineer</td>\n",
       "      <td>IT</td>\n",
       "    </tr>\n",
       "    <tr>\n",
       "      <th>4</th>\n",
       "      <td>network and telephony controller</td>\n",
       "      <td>IT</td>\n",
       "    </tr>\n",
       "    <tr>\n",
       "      <th>5</th>\n",
       "      <td>privileged access management expert</td>\n",
       "      <td>IT</td>\n",
       "    </tr>\n",
       "    <tr>\n",
       "      <th>6</th>\n",
       "      <td>devops engineers x 3 - global brand</td>\n",
       "      <td>IT</td>\n",
       "    </tr>\n",
       "    <tr>\n",
       "      <th>7</th>\n",
       "      <td>devops engineers x 3 - global brand</td>\n",
       "      <td>IT</td>\n",
       "    </tr>\n",
       "    <tr>\n",
       "      <th>8</th>\n",
       "      <td>data modeller</td>\n",
       "      <td>IT</td>\n",
       "    </tr>\n",
       "    <tr>\n",
       "      <th>9</th>\n",
       "      <td>php web developer £45,000 based in london</td>\n",
       "      <td>IT</td>\n",
       "    </tr>\n",
       "  </tbody>\n",
       "</table>\n",
       "</div>"
      ],
      "text/plain": [
       "                                           job title industry\n",
       "0  technical support and helpdesk supervisor - co...       IT\n",
       "1                  senior technical support engineer       IT\n",
       "2                                head of it services       IT\n",
       "3                              js front end engineer       IT\n",
       "4                   network and telephony controller       IT\n",
       "5                privileged access management expert       IT\n",
       "6                devops engineers x 3 - global brand       IT\n",
       "7                devops engineers x 3 - global brand       IT\n",
       "8                                      data modeller       IT\n",
       "9          php web developer £45,000 based in london       IT"
      ]
     },
     "execution_count": 2,
     "metadata": {},
     "output_type": "execute_result"
    }
   ],
   "source": [
    "#load Data \n",
    "df = pd.read_csv(\"Job titles and industries.csv\")\n",
    "df.head(10)"
   ]
  },
  {
   "cell_type": "markdown",
   "id": "6fc145ca",
   "metadata": {},
   "source": [
    "#### Explore data\n"
   ]
  },
  {
   "cell_type": "code",
   "execution_count": 3,
   "id": "6ebd5dbd",
   "metadata": {},
   "outputs": [
    {
     "name": "stdout",
     "output_type": "stream",
     "text": [
      "<class 'pandas.core.frame.DataFrame'>\n",
      "RangeIndex: 8586 entries, 0 to 8585\n",
      "Data columns (total 2 columns):\n",
      " #   Column     Non-Null Count  Dtype \n",
      "---  ------     --------------  ----- \n",
      " 0   job title  8586 non-null   object\n",
      " 1   industry   8586 non-null   object\n",
      "dtypes: object(2)\n",
      "memory usage: 134.3+ KB\n"
     ]
    }
   ],
   "source": [
    "#Data info\n",
    "df.info()"
   ]
  },
  {
   "cell_type": "code",
   "execution_count": 4,
   "id": "310b522a",
   "metadata": {},
   "outputs": [
    {
     "data": {
      "image/png": "[encoded data removed]",
      "text/plain": [
       "<Figure size 360x360 with 1 Axes>"
      ]
     },
     "metadata": {
      "needs_background": "light"
     },
     "output_type": "display_data"
    }
   ],
   "source": [
    "#Data classes distribution \n",
    "plt.figure(figsize=(5, 5))\n",
    "sb.countplot(data=df, x=\"industry\",color = sb.color_palette()[0]); \n"
   ]
  },
  {
   "cell_type": "code",
   "execution_count": 5,
   "id": "ca3ffec1",
   "metadata": {},
   "outputs": [
    {
     "data": {
      "text/plain": [
       "job title    0\n",
       "industry     0\n",
       "dtype: int64"
      ]
     },
     "execution_count": 5,
     "metadata": {},
     "output_type": "execute_result"
    }
   ],
   "source": [
    "#check Null values \n",
    "df.isna().sum()"
   ]
  },
  {
   "cell_type": "code",
   "execution_count": 6,
   "id": "79056634",
   "metadata": {},
   "outputs": [
    {
     "data": {
      "text/plain": [
       "4618"
      ]
     },
     "execution_count": 6,
     "metadata": {},
     "output_type": "execute_result"
    }
   ],
   "source": [
    "#check for duplicated values\n",
    "df.duplicated().sum()\n"
   ]
  },
  {
   "cell_type": "markdown",
   "id": "074f7be2",
   "metadata": {},
   "source": [
    "More than half of the available data are duplicates !!\n"
   ]
  },
  {
   "cell_type": "code",
   "execution_count": 7,
   "id": "66b1e78b",
   "metadata": {},
   "outputs": [
    {
     "data": {
      "text/plain": [
       "(3968, 2)"
      ]
     },
     "execution_count": 7,
     "metadata": {},
     "output_type": "execute_result"
    }
   ],
   "source": [
    "#drop duplicated rows\n",
    "unique_df = df.drop_duplicates()\n",
    "unique_df.shape"
   ]
  },
  {
   "cell_type": "code",
   "execution_count": 8,
   "id": "03367f91",
   "metadata": {},
   "outputs": [
    {
     "data": {
      "image/png": "[encoded data removed]",
      "text/plain": [
       "<Figure size 360x360 with 1 Axes>"
      ]
     },
     "metadata": {
      "needs_background": "light"
     },
     "output_type": "display_data"
    }
   ],
   "source": [
    "#unique Data classes distribution \n",
    "plt.figure(figsize=(5, 5))\n",
    "sb.countplot(data=unique_df, x=\"industry\",color = sb.color_palette()[0]); \n"
   ]
  },
  {
   "cell_type": "markdown",
   "id": "e498ea43",
   "metadata": {},
   "source": [
    "Removing duplicate data helped partially to solve the problem of imbalanced data . "
   ]
  },
  {
   "cell_type": "markdown",
   "id": "cabcbbf0",
   "metadata": {},
   "source": [
    "### Data Cleaning"
   ]
  },
  {
   "cell_type": "code",
   "execution_count": 9,
   "id": "221d2d81",
   "metadata": {},
   "outputs": [
    {
     "name": "stderr",
     "output_type": "stream",
     "text": [
      "[nltk_data] Downloading package stopwords to /home/roaa/nltk_data...\n",
      "[nltk_data]   Package stopwords is already up-to-date!\n"
     ]
    }
   ],
   "source": [
    "#remove stop words\n",
    "nltk.download('stopwords')\n",
    "stop = stopwords.words('english')\n",
    "unique_df['clean_job_title'] = unique_df['job title'].apply(lambda x: [item for item in str(x).split() if item not in stop])\n",
    "unique_df['clean_job_title']  = unique_df['clean_job_title'].apply(lambda x: ', '.join(x))\n",
    "#remove special characers\n",
    "unique_df['clean_job_title'] = unique_df['clean_job_title'].map(lambda x: re.sub(r'\\W+', ' ', x))\n",
    "#remove numbers\n",
    "unique_df['clean_job_title'] = unique_df['clean_job_title'].str.replace('\\d+', ' ')\n",
    "#remove words less than 2 chars\n",
    "unique_df['clean_job_title'] = unique_df['clean_job_title'].str.replace(r'\\b(\\w{1,2})\\b', ' ')\n",
    "#applay lower case \n",
    "unique_df['clean_job_title'] = unique_df['clean_job_title'].str.lower()"
   ]
  },
  {
   "cell_type": "code",
   "execution_count": 10,
   "id": "c313bbff",
   "metadata": {},
   "outputs": [
    {
     "data": {
      "text/html": [
       "<div>\n",
       "<style scoped>\n",
       "    .dataframe tbody tr th:only-of-type {\n",
       "        vertical-align: middle;\n",
       "    }\n",
       "\n",
       "    .dataframe tbody tr th {\n",
       "        vertical-align: top;\n",
       "    }\n",
       "\n",
       "    .dataframe thead th {\n",
       "        text-align: right;\n",
       "    }\n",
       "</style>\n",
       "<table border=\"1\" class=\"dataframe\">\n",
       "  <thead>\n",
       "    <tr style=\"text-align: right;\">\n",
       "      <th></th>\n",
       "      <th>job title</th>\n",
       "      <th>industry</th>\n",
       "      <th>clean_job_title</th>\n",
       "    </tr>\n",
       "  </thead>\n",
       "  <tbody>\n",
       "    <tr>\n",
       "      <th>0</th>\n",
       "      <td>technical support and helpdesk supervisor - co...</td>\n",
       "      <td>IT</td>\n",
       "      <td>technical support helpdesk supervisor county b...</td>\n",
       "    </tr>\n",
       "    <tr>\n",
       "      <th>1</th>\n",
       "      <td>senior technical support engineer</td>\n",
       "      <td>IT</td>\n",
       "      <td>senior technical support engineer</td>\n",
       "    </tr>\n",
       "    <tr>\n",
       "      <th>2</th>\n",
       "      <td>head of it services</td>\n",
       "      <td>IT</td>\n",
       "      <td>head services</td>\n",
       "    </tr>\n",
       "    <tr>\n",
       "      <th>3</th>\n",
       "      <td>js front end engineer</td>\n",
       "      <td>IT</td>\n",
       "      <td>front end engineer</td>\n",
       "    </tr>\n",
       "    <tr>\n",
       "      <th>4</th>\n",
       "      <td>network and telephony controller</td>\n",
       "      <td>IT</td>\n",
       "      <td>network telephony controller</td>\n",
       "    </tr>\n",
       "    <tr>\n",
       "      <th>5</th>\n",
       "      <td>privileged access management expert</td>\n",
       "      <td>IT</td>\n",
       "      <td>privileged access management expert</td>\n",
       "    </tr>\n",
       "    <tr>\n",
       "      <th>6</th>\n",
       "      <td>devops engineers x 3 - global brand</td>\n",
       "      <td>IT</td>\n",
       "      <td>devops engineers     global brand</td>\n",
       "    </tr>\n",
       "    <tr>\n",
       "      <th>8</th>\n",
       "      <td>data modeller</td>\n",
       "      <td>IT</td>\n",
       "      <td>data modeller</td>\n",
       "    </tr>\n",
       "    <tr>\n",
       "      <th>9</th>\n",
       "      <td>php web developer £45,000 based in london</td>\n",
       "      <td>IT</td>\n",
       "      <td>php web developer     based london</td>\n",
       "    </tr>\n",
       "    <tr>\n",
       "      <th>12</th>\n",
       "      <td>solution / technical architect - ethical brand</td>\n",
       "      <td>IT</td>\n",
       "      <td>solution technical architect ethical brand</td>\n",
       "    </tr>\n",
       "    <tr>\n",
       "      <th>13</th>\n",
       "      <td>lead developer - ethical brand</td>\n",
       "      <td>IT</td>\n",
       "      <td>lead developer ethical brand</td>\n",
       "    </tr>\n",
       "    <tr>\n",
       "      <th>14</th>\n",
       "      <td>junior front-end developer</td>\n",
       "      <td>IT</td>\n",
       "      <td>junior front end developer</td>\n",
       "    </tr>\n",
       "    <tr>\n",
       "      <th>15</th>\n",
       "      <td>vb .net web developer, milton keynes, £45k</td>\n",
       "      <td>IT</td>\n",
       "      <td>net web developer milton keynes</td>\n",
       "    </tr>\n",
       "    <tr>\n",
       "      <th>16</th>\n",
       "      <td>data scientist, newcastle, up to £40k</td>\n",
       "      <td>IT</td>\n",
       "      <td>data scientist newcastle</td>\n",
       "    </tr>\n",
       "    <tr>\n",
       "      <th>17</th>\n",
       "      <td>senior bi engineer</td>\n",
       "      <td>IT</td>\n",
       "      <td>senior   engineer</td>\n",
       "    </tr>\n",
       "    <tr>\n",
       "      <th>18</th>\n",
       "      <td>machine learning engineer</td>\n",
       "      <td>IT</td>\n",
       "      <td>machine learning engineer</td>\n",
       "    </tr>\n",
       "    <tr>\n",
       "      <th>19</th>\n",
       "      <td>full stack developer, oxfordshire, £40k</td>\n",
       "      <td>IT</td>\n",
       "      <td>full stack developer oxfordshire</td>\n",
       "    </tr>\n",
       "    <tr>\n",
       "      <th>20</th>\n",
       "      <td>c# software developer, waltham cross, £55k</td>\n",
       "      <td>IT</td>\n",
       "      <td>software developer waltham cross</td>\n",
       "    </tr>\n",
       "    <tr>\n",
       "      <th>21</th>\n",
       "      <td>senior data engineer</td>\n",
       "      <td>IT</td>\n",
       "      <td>senior data engineer</td>\n",
       "    </tr>\n",
       "    <tr>\n",
       "      <th>22</th>\n",
       "      <td>erp support analyst - unit4, agresso business ...</td>\n",
       "      <td>IT</td>\n",
       "      <td>erp support analyst unit  agresso business world</td>\n",
       "    </tr>\n",
       "  </tbody>\n",
       "</table>\n",
       "</div>"
      ],
      "text/plain": [
       "                                            job title industry  \\\n",
       "0   technical support and helpdesk supervisor - co...       IT   \n",
       "1                   senior technical support engineer       IT   \n",
       "2                                 head of it services       IT   \n",
       "3                               js front end engineer       IT   \n",
       "4                    network and telephony controller       IT   \n",
       "5                 privileged access management expert       IT   \n",
       "6                 devops engineers x 3 - global brand       IT   \n",
       "8                                       data modeller       IT   \n",
       "9           php web developer £45,000 based in london       IT   \n",
       "12     solution / technical architect - ethical brand       IT   \n",
       "13                     lead developer - ethical brand       IT   \n",
       "14                         junior front-end developer       IT   \n",
       "15         vb .net web developer, milton keynes, £45k       IT   \n",
       "16              data scientist, newcastle, up to £40k       IT   \n",
       "17                                 senior bi engineer       IT   \n",
       "18                          machine learning engineer       IT   \n",
       "19            full stack developer, oxfordshire, £40k       IT   \n",
       "20         c# software developer, waltham cross, £55k       IT   \n",
       "21                               senior data engineer       IT   \n",
       "22  erp support analyst - unit4, agresso business ...       IT   \n",
       "\n",
       "                                      clean_job_title  \n",
       "0   technical support helpdesk supervisor county b...  \n",
       "1                   senior technical support engineer  \n",
       "2                                       head services  \n",
       "3                                  front end engineer  \n",
       "4                        network telephony controller  \n",
       "5                 privileged access management expert  \n",
       "6                   devops engineers     global brand  \n",
       "8                                       data modeller  \n",
       "9                  php web developer     based london  \n",
       "12         solution technical architect ethical brand  \n",
       "13                       lead developer ethical brand  \n",
       "14                         junior front end developer  \n",
       "15                 net web developer milton keynes     \n",
       "16                        data scientist newcastle     \n",
       "17                                  senior   engineer  \n",
       "18                          machine learning engineer  \n",
       "19                full stack developer oxfordshire     \n",
       "20                software developer waltham cross     \n",
       "21                               senior data engineer  \n",
       "22   erp support analyst unit  agresso business world  "
      ]
     },
     "execution_count": 10,
     "metadata": {},
     "output_type": "execute_result"
    }
   ],
   "source": [
    "unique_df.head(20)"
   ]
  },
  {
   "cell_type": "markdown",
   "id": "f22d9935",
   "metadata": {},
   "source": [
    "## The Model"
   ]
  },
  {
   "cell_type": "markdown",
   "id": "c0f64899",
   "metadata": {},
   "source": [
    "### Split data into test set and train set"
   ]
  },
  {
   "cell_type": "code",
   "execution_count": 11,
   "id": "58af794c",
   "metadata": {},
   "outputs": [],
   "source": [
    "X = unique_df['clean_job_title']\n",
    "y = unique_df['industry']\n",
    "X_train, X_test, y_train, y_test = train_test_split(X, y, test_size=0.25, random_state = 42)"
   ]
  },
  {
   "cell_type": "markdown",
   "id": "3c73618f",
   "metadata": {},
   "source": [
    "### Solve imbalanced data problem"
   ]
  },
  {
   "cell_type": "markdown",
   "id": "16b53308",
   "metadata": {},
   "source": [
    "#### First approach estimate sample weights by class "
   ]
  },
  {
   "cell_type": "code",
   "execution_count": 12,
   "id": "4d272f3e",
   "metadata": {},
   "outputs": [
    {
     "name": "stdout",
     "output_type": "stream",
     "text": [
      "The classes weights :  [0.65840708 0.82758621 1.00404858 3.61165049]\n"
     ]
    }
   ],
   "source": [
    "weights = compute_sample_weight(\"balanced\",y_train)\n",
    "print('The classes weights : ', np.unique(weights) )"
   ]
  },
  {
   "cell_type": "code",
   "execution_count": 13,
   "id": "9036580d",
   "metadata": {},
   "outputs": [
    {
     "name": "stdout",
     "output_type": "stream",
     "text": [
      "F1-score :  LogisticRegression\n",
      "              precision    recall  f1-score   support\n",
      "\n",
      " Accountancy       0.82      0.70      0.75        57\n",
      "   Education       0.85      0.90      0.87       232\n",
      "          IT       0.87      0.87      0.87       399\n",
      "   Marketing       0.82      0.81      0.81       304\n",
      "\n",
      "    accuracy                           0.85       992\n",
      "   macro avg       0.84      0.82      0.83       992\n",
      "weighted avg       0.85      0.85      0.85       992\n",
      "\n",
      "--------------------------------------------------------------------------\n"
     ]
    },
    {
     "data": {
      "image/png": "[encoded data removed]",
      "text/plain": [
       "<Figure size 864x864 with 2 Axes>"
      ]
     },
     "metadata": {
      "needs_background": "light"
     },
     "output_type": "display_data"
    },
    {
     "name": "stdout",
     "output_type": "stream",
     "text": [
      "F1-score :  MultinomialNB\n",
      "              precision    recall  f1-score   support\n",
      "\n",
      " Accountancy       0.62      0.84      0.72        57\n",
      "   Education       0.93      0.86      0.89       232\n",
      "          IT       0.95      0.87      0.91       399\n",
      "   Marketing       0.81      0.89      0.85       304\n",
      "\n",
      "    accuracy                           0.87       992\n",
      "   macro avg       0.83      0.87      0.84       992\n",
      "weighted avg       0.88      0.87      0.87       992\n",
      "\n",
      "--------------------------------------------------------------------------\n"
     ]
    },
    {
     "data": {
      "image/png": "[encoded data removed]",
      "text/plain": [
       "<Figure size 864x864 with 2 Axes>"
      ]
     },
     "metadata": {
      "needs_background": "light"
     },
     "output_type": "display_data"
    },
    {
     "name": "stdout",
     "output_type": "stream",
     "text": [
      "F1-score :  SGDClassifier\n",
      "              precision    recall  f1-score   support\n",
      "\n",
      " Accountancy       0.75      0.84      0.79        57\n",
      "   Education       0.93      0.88      0.91       232\n",
      "          IT       0.94      0.88      0.91       399\n",
      "   Marketing       0.82      0.89      0.86       304\n",
      "\n",
      "    accuracy                           0.88       992\n",
      "   macro avg       0.86      0.88      0.87       992\n",
      "weighted avg       0.89      0.88      0.89       992\n",
      "\n",
      "--------------------------------------------------------------------------\n"
     ]
    },
    {
     "data": {
      "image/png": "[encoded data removed]",
      "text/plain": [
       "<Figure size 864x864 with 2 Axes>"
      ]
     },
     "metadata": {
      "needs_background": "light"
     },
     "output_type": "display_data"
    },
    {
     "data": {
      "text/html": [
       "<div>\n",
       "<style scoped>\n",
       "    .dataframe tbody tr th:only-of-type {\n",
       "        vertical-align: middle;\n",
       "    }\n",
       "\n",
       "    .dataframe tbody tr th {\n",
       "        vertical-align: top;\n",
       "    }\n",
       "\n",
       "    .dataframe thead th {\n",
       "        text-align: right;\n",
       "    }\n",
       "</style>\n",
       "<table border=\"1\" class=\"dataframe\">\n",
       "  <thead>\n",
       "    <tr style=\"text-align: right;\">\n",
       "      <th></th>\n",
       "      <th>Modelling Algo</th>\n",
       "      <th>Train accuracy</th>\n",
       "      <th>Test accuracy</th>\n",
       "    </tr>\n",
       "  </thead>\n",
       "  <tbody>\n",
       "    <tr>\n",
       "      <th>0</th>\n",
       "      <td>LogisticRegression</td>\n",
       "      <td>0.954637</td>\n",
       "      <td>0.848790</td>\n",
       "    </tr>\n",
       "    <tr>\n",
       "      <th>1</th>\n",
       "      <td>MultinomialNB</td>\n",
       "      <td>0.909274</td>\n",
       "      <td>0.871976</td>\n",
       "    </tr>\n",
       "    <tr>\n",
       "      <th>2</th>\n",
       "      <td>SGDClassifier</td>\n",
       "      <td>0.919355</td>\n",
       "      <td>0.884073</td>\n",
       "    </tr>\n",
       "  </tbody>\n",
       "</table>\n",
       "</div>"
      ],
      "text/plain": [
       "       Modelling Algo  Train accuracy  Test accuracy\n",
       "0  LogisticRegression        0.954637       0.848790\n",
       "1       MultinomialNB        0.909274       0.871976\n",
       "2       SGDClassifier        0.919355       0.884073"
      ]
     },
     "execution_count": 13,
     "metadata": {},
     "output_type": "execute_result"
    }
   ],
   "source": [
    "#Model\n",
    "models=[LogisticRegression(n_jobs=1, C=1e5),\n",
    "       MultinomialNB(alpha = 0.7),\n",
    "       SGDClassifier(loss='hinge', penalty='l2',alpha=1e-3, random_state=0, max_iter=1000, tol=None),\n",
    "       ]\n",
    "model_names=['LogisticRegression','MultinomialNB','SGDClassifier']\n",
    "train_acc =[]\n",
    "test_acc = []\n",
    "d={}\n",
    "for model in range (len(models)):\n",
    "    Classifier = models[model]\n",
    "    #pipline stages\n",
    "    # 1-Convert a collection of text documents to a matrix\n",
    "    # 2-Transform a count matrix to a normalized tf-idf representation\n",
    "    # 3-Classifier \n",
    "    pipline = Pipeline([('vect', CountVectorizer()),\n",
    "               ('tfidf', TfidfTransformer()),\n",
    "               ('Model', Classifier ),])\n",
    "    pipline.fit(X_train ,y_train, **{'Model__sample_weight': weights})\n",
    "    y_pred=pipline.predict(X_test)\n",
    "    Y = pipline.predict(X_train)\n",
    "    #Evaluating using F1-score for classes\n",
    "    print('F1-score : ' ,model_names[model] )\n",
    "    print(metrics.classification_report(y_test, y_pred))\n",
    "    print('--------------------------------------------------------------------------')\n",
    "    #Evaluating using Accuracy\n",
    "    train_acc.append(accuracy_score(y_train,Y))\n",
    "    test_acc.append(accuracy_score(y_test, y_pred))\n",
    "    #Evaluating using confusion matrix\n",
    "    conf_mat = confusion_matrix(y_test, y_pred)\n",
    "    fig, ax = plt.subplots(figsize=(12,12))\n",
    "    sb.heatmap(conf_mat, annot=True, fmt='d')\n",
    "    plt.ylabel('Actual')\n",
    "    plt.xlabel('Predicted')\n",
    "    plt.title('confusion_matrix ' + model_names[model])\n",
    "    plt.show()\n",
    "d={'Modelling Algo':model_names,'Train accuracy':train_acc ,'Test accuracy': test_acc}   \n",
    "rmsle_frame=pd.DataFrame(d)\n",
    "rmsle_frame\n"
   ]
  },
  {
   "cell_type": "markdown",
   "id": "e25ffb42",
   "metadata": {},
   "source": [
    "#### Second approach Over-sampling followed by under-sampling"
   ]
  },
  {
   "cell_type": "code",
   "execution_count": 14,
   "id": "8bd4076d",
   "metadata": {},
   "outputs": [
    {
     "name": "stdout",
     "output_type": "stream",
     "text": [
      "Original dataset shape Counter({'IT': 1130, 'Marketing': 899, 'Education': 741, 'Accountancy': 206})\n",
      "Resampled dataset shape Counter({'Accountancy': 1130, 'Education': 1117, 'Marketing': 1102, 'IT': 1097})\n"
     ]
    }
   ],
   "source": [
    "#Convert a collection of text documents to a matrix\n",
    "vectorizer = CountVectorizer()\n",
    "X_train_vect = vectorizer.fit_transform(X_train)\n",
    "X_test_vect = vectorizer.transform(X_test)\n",
    "\n",
    "#Transform a count matrix to a normalized tf-idf representation\n",
    "Tfidf = TfidfTransformer()\n",
    "X_train_tf = Tfidf.fit_transform(X_train_vect)\n",
    "X_test_tf  = Tfidf.transform(X_test_vect)\n",
    "\n",
    "print('Original dataset shape %s' % Counter(y_train ))\n",
    "smt = SMOTETomek(random_state=42)\n",
    "X_train_res, y_train_res = smt.fit_resample(X_train_tf, y_train)\n",
    "print('Resampled dataset shape %s' % Counter(y_train_res))\n"
   ]
  },
  {
   "cell_type": "code",
   "execution_count": 15,
   "id": "d168daa2",
   "metadata": {
    "scrolled": false
   },
   "outputs": [
    {
     "name": "stdout",
     "output_type": "stream",
     "text": [
      "F1-score :  LogisticRegression\n",
      "              precision    recall  f1-score   support\n",
      "\n",
      " Accountancy       0.82      0.70      0.75        57\n",
      "   Education       0.83      0.89      0.86       232\n",
      "          IT       0.86      0.86      0.86       399\n",
      "   Marketing       0.81      0.79      0.80       304\n",
      "\n",
      "    accuracy                           0.84       992\n",
      "   macro avg       0.83      0.81      0.82       992\n",
      "weighted avg       0.84      0.84      0.84       992\n",
      "\n",
      "--------------------------------------------------------------------------\n"
     ]
    },
    {
     "data": {
      "image/png": "[encoded data removed]",
      "text/plain": [
       "<Figure size 864x864 with 2 Axes>"
      ]
     },
     "metadata": {
      "needs_background": "light"
     },
     "output_type": "display_data"
    },
    {
     "name": "stdout",
     "output_type": "stream",
     "text": [
      "F1-score :  MultinomialNB\n",
      "              precision    recall  f1-score   support\n",
      "\n",
      " Accountancy       0.64      0.84      0.73        57\n",
      "   Education       0.93      0.85      0.89       232\n",
      "          IT       0.94      0.87      0.90       399\n",
      "   Marketing       0.81      0.88      0.84       304\n",
      "\n",
      "    accuracy                           0.87       992\n",
      "   macro avg       0.83      0.86      0.84       992\n",
      "weighted avg       0.88      0.87      0.87       992\n",
      "\n",
      "--------------------------------------------------------------------------\n"
     ]
    },
    {
     "data": {
      "image/png": "[encoded data removed]",
      "text/plain": [
       "<Figure size 864x864 with 2 Axes>"
      ]
     },
     "metadata": {
      "needs_background": "light"
     },
     "output_type": "display_data"
    },
    {
     "name": "stdout",
     "output_type": "stream",
     "text": [
      "F1-score :  SGDClassifier\n",
      "              precision    recall  f1-score   support\n",
      "\n",
      " Accountancy       0.74      0.81      0.77        57\n",
      "   Education       0.92      0.89      0.91       232\n",
      "          IT       0.93      0.88      0.90       399\n",
      "   Marketing       0.82      0.89      0.85       304\n",
      "\n",
      "    accuracy                           0.88       992\n",
      "   macro avg       0.85      0.87      0.86       992\n",
      "weighted avg       0.88      0.88      0.88       992\n",
      "\n",
      "--------------------------------------------------------------------------\n"
     ]
    },
    {
     "data": {
      "image/png": "[encoded data removed]",
      "text/plain": [
       "<Figure size 864x864 with 2 Axes>"
      ]
     },
     "metadata": {
      "needs_background": "light"
     },
     "output_type": "display_data"
    },
    {
     "data": {
      "text/html": [
       "<div>\n",
       "<style scoped>\n",
       "    .dataframe tbody tr th:only-of-type {\n",
       "        vertical-align: middle;\n",
       "    }\n",
       "\n",
       "    .dataframe tbody tr th {\n",
       "        vertical-align: top;\n",
       "    }\n",
       "\n",
       "    .dataframe thead th {\n",
       "        text-align: right;\n",
       "    }\n",
       "</style>\n",
       "<table border=\"1\" class=\"dataframe\">\n",
       "  <thead>\n",
       "    <tr style=\"text-align: right;\">\n",
       "      <th></th>\n",
       "      <th>Modelling Algo</th>\n",
       "      <th>Train accuracy</th>\n",
       "      <th>Test accuracy</th>\n",
       "    </tr>\n",
       "  </thead>\n",
       "  <tbody>\n",
       "    <tr>\n",
       "      <th>0</th>\n",
       "      <td>LogisticRegression</td>\n",
       "      <td>0.968286</td>\n",
       "      <td>0.838710</td>\n",
       "    </tr>\n",
       "    <tr>\n",
       "      <th>1</th>\n",
       "      <td>MultinomialNB</td>\n",
       "      <td>0.936347</td>\n",
       "      <td>0.868952</td>\n",
       "    </tr>\n",
       "    <tr>\n",
       "      <th>2</th>\n",
       "      <td>SGDClassifier</td>\n",
       "      <td>0.957715</td>\n",
       "      <td>0.879032</td>\n",
       "    </tr>\n",
       "  </tbody>\n",
       "</table>\n",
       "</div>"
      ],
      "text/plain": [
       "       Modelling Algo  Train accuracy  Test accuracy\n",
       "0  LogisticRegression        0.968286       0.838710\n",
       "1       MultinomialNB        0.936347       0.868952\n",
       "2       SGDClassifier        0.957715       0.879032"
      ]
     },
     "execution_count": 15,
     "metadata": {},
     "output_type": "execute_result"
    }
   ],
   "source": [
    "#Model\n",
    "models=[LogisticRegression(n_jobs=1, C=1e5),\n",
    "       MultinomialNB(alpha = 0.7),\n",
    "       SGDClassifier(loss='hinge', penalty='l1',alpha=1e-4, random_state=0, max_iter=5, tol=None),\n",
    "       ]\n",
    "model_names=['LogisticRegression','MultinomialNB','SGDClassifier']\n",
    "train_acc =[]\n",
    "test_acc = []\n",
    "d={}\n",
    "for model in range (len(models)):\n",
    "    Classifier = models[model]\n",
    "    Classifier.fit(X_train_res, y_train_res)\n",
    "    y_pred=Classifier.predict(X_test_tf)\n",
    "    Y = Classifier.predict(X_train_res)\n",
    "    #Evaluating using F1-score for classes\n",
    "    print('F1-score : ' ,model_names[model] )\n",
    "    print(metrics.classification_report(y_test, y_pred))\n",
    "    print('--------------------------------------------------------------------------')\n",
    "    #Evaluating using Accuracy\n",
    "    train_acc.append(accuracy_score(y_train_res,Y))\n",
    "    test_acc.append(accuracy_score(y_test, y_pred))\n",
    "    #Evaluating using confusion matrix\n",
    "    conf_mat = confusion_matrix(y_test, y_pred)\n",
    "    fig, ax = plt.subplots(figsize=(12,12))\n",
    "    sb.heatmap(conf_mat, annot=True, fmt='d')\n",
    "    plt.ylabel('Actual')\n",
    "    plt.xlabel('Predicted')\n",
    "    plt.title('confusion_matrix ' + model_names[model])\n",
    "    plt.show()\n",
    "d={'Modelling Algo':model_names,'Train accuracy':train_acc ,'Test accuracy': test_acc}   \n",
    "rmsle_frame=pd.DataFrame(d)\n",
    "rmsle_frame\n"
   ]
  },
  {
   "cell_type": "markdown",
   "id": "6a6b887a",
   "metadata": {},
   "source": [
    "### select model"
   ]
  },
  {
   "cell_type": "markdown",
   "id": "12075033",
   "metadata": {},
   "source": [
    "\n",
    "The two methods used gives results that are very close to each other, but the frist method gives higher accuracy (F1-score) and there is no overfitting ,  thus I will use the frist method with SGDClassifier model .\n"
   ]
  },
  {
   "cell_type": "code",
   "execution_count": 16,
   "id": "594082fb",
   "metadata": {},
   "outputs": [
    {
     "data": {
      "text/plain": [
       "Pipeline(steps=[('vect', CountVectorizer()), ('tfidf', TfidfTransformer()),\n",
       "                ('Model',\n",
       "                 SGDClassifier(alpha=0.001, random_state=0, tol=None))])"
      ]
     },
     "execution_count": 16,
     "metadata": {},
     "output_type": "execute_result"
    }
   ],
   "source": [
    "# selected_model = SGDClassifier(loss='hinge', penalty='l2',alpha=1e-3, random_state=42, max_iter=5, tol=None)\n",
    "# selected_model.fit(X_train_res, y_train_res)\n",
    "\n",
    "selected_model = Pipeline([('vect', CountVectorizer()),\n",
    "               ('tfidf', TfidfTransformer()),\n",
    "               ('Model', SGDClassifier(loss='hinge', penalty='l2',alpha=1e-3, random_state=0, max_iter=1000, tol=None) ),])\n",
    "selected_model.fit(X_train ,y_train, **{'Model__sample_weight': weights})"
   ]
  },
  {
   "cell_type": "markdown",
   "id": "efbdd06d",
   "metadata": {},
   "source": [
    "### Save selected Model \n"
   ]
  },
  {
   "cell_type": "code",
   "execution_count": 17,
   "id": "56d19820",
   "metadata": {},
   "outputs": [
    {
     "data": {
      "text/plain": [
       "['selected_model.joblib']"
      ]
     },
     "execution_count": 17,
     "metadata": {},
     "output_type": "execute_result"
    }
   ],
   "source": [
    "from joblib import dump, load\n",
    "dump(selected_model, 'selected_model.joblib')"
   ]
  }
 ],
 "metadata": {
  "kernelspec": {
   "display_name": "Python 3 (ipykernel)",
   "language": "python",
   "name": "python3"
  },
  "language_info": {
   "codemirror_mode": {
    "name": "ipython",
    "version": 3
   },
   "file_extension": ".py",
   "mimetype": "text/x-python",
   "name": "python",
   "nbconvert_exporter": "python",
   "pygments_lexer": "ipython3",
   "version": "3.8.10"
  }
 },
 "nbformat": 4,
 "nbformat_minor": 5
}
